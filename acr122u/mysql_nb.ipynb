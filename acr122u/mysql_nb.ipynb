{
 "cells": [
  {
   "cell_type": "markdown",
   "metadata": {},
   "source": [
    "# Local MySQL database playground\n",
    "\n",
    "## Import libraries and create connection"
   ]
  },
  {
   "cell_type": "code",
   "execution_count": 36,
   "metadata": {},
   "outputs": [],
   "source": [
    "import mysql.connector\n",
    "from mysql.connector import errorcode\n",
    "from sqlalchemy import create_engine\n",
    "import pymysql\n",
    "import pandas as pd\n",
    "\n",
    "try:\n",
    "    mydb = mysql.connector.connect(\n",
    "        host=\"localhost\",\n",
    "        user=\"js\",\n",
    "        password=\"Yamato%0\",\n",
    "        database=\"endoscopy\",\n",
    "        )\n",
    "\n",
    "except mysql.connector.Error as err:\n",
    "  if err.errno == errorcode.ER_ACCESS_DENIED_ERROR:\n",
    "    print(\"Something is wrong with your user name or password\")\n",
    "  elif err.errno == errorcode.ER_BAD_DB_ERROR:\n",
    "    print(\"Database does not exist\")\n",
    "  else:\n",
    "    print(err)"
   ]
  },
  {
   "cell_type": "markdown",
   "metadata": {},
   "source": [
    "## Create database and select table"
   ]
  },
  {
   "cell_type": "code",
   "execution_count": 37,
   "metadata": {},
   "outputs": [
    {
     "name": "stdout",
     "output_type": "stream",
     "text": [
      "('probes_cal',)\n",
      "('probes_info',)\n",
      "('test',)\n"
     ]
    }
   ],
   "source": [
    "mycursor = mydb.cursor()\n",
    "\n",
    "mycursor.execute(\n",
    "    \"CREATE DATABASE IF NOT EXISTS endoscopy;\"\n",
    ")\n",
    "\n",
    "mycursor.execute(\"USE endoscopy;\")\n",
    "mycursor.execute(\"SHOW TABLES;\")\n",
    "\n",
    "for x in mycursor:\n",
    "    print(x)"
   ]
  },
  {
   "cell_type": "markdown",
   "metadata": {},
   "source": [
    "## Create new tables"
   ]
  },
  {
   "cell_type": "code",
   "execution_count": 38,
   "metadata": {},
   "outputs": [],
   "source": [
    "mycursor.execute(\n",
    "    \"CREATE TABLE IF NOT EXISTS test (\"\n",
    "    \"UID INT, \"\n",
    "    \"n INT \"\n",
    "    \");\"\n",
    "    )\n",
    "\n",
    "mycursor.execute(\n",
    "    \"CREATE TABLE IF NOT EXISTS probes_cal (\"\n",
    "\t\"UID INT UNSIGNED NOT NULL, \"\n",
    "\t\"date DATE NOT NULL, \"\n",
    "    \"time TIME NOT NULL, \"\n",
    "    \"fov DECIMAL(8, 5) \"\n",
    "\t\");\"\n",
    "    )\n",
    "\n",
    "mycursor.execute(\n",
    "    \"CREATE TABLE IF NOT EXISTS probes_info (\"\n",
    "    \"UID INT UNSIGNED NOT NULL AUTO_INCREMENT, \"\n",
    "    \"name VARCHAR(30) NOT NULL DEFAULT '', \"\n",
    "    \"fiber VARCHAR(30) NOT NULL DEFAULT '', \"\n",
    "    \"connector VARCHAR(30) NOT NULL DEFAULT '', \"\n",
    "    \"objective VARCHAR(30) NOT NULL DEFAULT '', \"\n",
    "    \"status VARCHAR(30) NOT NULL DEFAULT '', \"\n",
    "    \"PRIMARY KEY (UID) \"\n",
    "    \");\"\n",
    ")"
   ]
  },
  {
   "cell_type": "markdown",
   "metadata": {},
   "source": [
    "## Add values to tables"
   ]
  },
  {
   "cell_type": "code",
   "execution_count": 39,
   "metadata": {},
   "outputs": [
    {
     "name": "stdout",
     "output_type": "stream",
     "text": [
      "(2, None, 22)\n",
      "(3, None, 24)\n",
      "(2, None, 22)\n",
      "(3, None, 24)\n",
      "(1, datetime.date(2022, 3, 15), 23)\n",
      "(2, datetime.date(2022, 3, 15), 22)\n",
      "(3, datetime.date(2022, 3, 15), 24)\n"
     ]
    }
   ],
   "source": [
    "mycursor.execute(\"insert into test values (1, CURRENT_DATE(), 23);\")\n",
    "mycursor.execute(\"insert into test values (2, CURRENT_DATE(), 22);\")\n",
    "mycursor.execute(\"insert into test values (3, CURRENT_DATE(), 24);\")\n",
    "\n",
    "mycursor.execute(\"SELECT * from test\")\n",
    "for x in mycursor:\n",
    "    print(x)\n"
   ]
  },
  {
   "cell_type": "markdown",
   "metadata": {},
   "source": [
    "## Remove values from tables"
   ]
  },
  {
   "cell_type": "code",
   "execution_count": 40,
   "metadata": {},
   "outputs": [
    {
     "name": "stdout",
     "output_type": "stream",
     "text": [
      "(2, None, 22)\n",
      "(3, None, 24)\n",
      "(2, None, 22)\n",
      "(3, None, 24)\n",
      "(2, datetime.date(2022, 3, 15), 22)\n",
      "(3, datetime.date(2022, 3, 15), 24)\n"
     ]
    }
   ],
   "source": [
    "mycursor.execute(\"DELETE FROM test where uid = 1;\")\n",
    "\n",
    "\n",
    "mycursor.execute(\"SELECT * from test\")\n",
    "result = mycursor.fetchall()\n",
    "\n",
    "for row in result:\n",
    "    print(row)"
   ]
  },
  {
   "cell_type": "markdown",
   "metadata": {},
   "source": [
    "## Read table as pandas.dataframe and export to CSV file and Excel file"
   ]
  },
  {
   "cell_type": "code",
   "execution_count": 41,
   "metadata": {},
   "outputs": [
    {
     "name": "stdout",
     "output_type": "stream",
     "text": [
      "   UID        date   n\n",
      "0    2        None  22\n",
      "1    3        None  24\n",
      "2    2        None  22\n",
      "3    3        None  24\n",
      "4    2  2022-03-15  22\n",
      "5    3  2022-03-15  24\n"
     ]
    },
    {
     "name": "stderr",
     "output_type": "stream",
     "text": [
      "C:\\Python310\\lib\\site-packages\\pandas\\io\\sql.py:761: UserWarning: pandas only support SQLAlchemy connectable(engine/connection) ordatabase string URI or sqlite3 DBAPI2 connectionother DBAPI2 objects are not tested, please consider using SQLAlchemy\n",
      "  warnings.warn(\n"
     ]
    }
   ],
   "source": [
    "dfdb = pd.read_sql(\"SELECT * from test\", mydb)\n",
    "print(dfdb)\n",
    "\n",
    "dfdb.to_csv(\"test.csv\")\n",
    "dfdb.to_excel(\"test.xlsx\")"
   ]
  },
  {
   "cell_type": "markdown",
   "metadata": {},
   "source": [
    "## Alter tables"
   ]
  },
  {
   "cell_type": "code",
   "execution_count": 42,
   "metadata": {},
   "outputs": [],
   "source": [
    "# # Add a column\n",
    "# mycursor.execute(\"ALTER TABLE test ADD COLUMN date DATE AFTER uid;\")\n",
    "\n",
    "# mycursor.execute(\"SELECT * from test\")\n",
    "# for x in mycursor:\n",
    "#     print(x)"
   ]
  },
  {
   "cell_type": "markdown",
   "metadata": {},
   "source": [
    "## Delete things (uncomment if needed)"
   ]
  },
  {
   "cell_type": "code",
   "execution_count": 43,
   "metadata": {},
   "outputs": [],
   "source": [
    "# mycursor.execute(\n",
    "#     \"DROP TABLE IF EXISTS test;\"\n",
    "#     )"
   ]
  },
  {
   "cell_type": "markdown",
   "metadata": {},
   "source": [
    "## Close connection"
   ]
  },
  {
   "cell_type": "code",
   "execution_count": 44,
   "metadata": {},
   "outputs": [],
   "source": [
    "mycursor.close()\n",
    "mydb.close()"
   ]
  }
 ],
 "metadata": {
  "interpreter": {
   "hash": "2be5faf79681da6f2a61fdfdd5405d65d042280f7fba6178067603e3a2925119"
  },
  "kernelspec": {
   "display_name": "Python 3.10.2 64-bit",
   "language": "python",
   "name": "python3"
  },
  "language_info": {
   "codemirror_mode": {
    "name": "ipython",
    "version": 3
   },
   "file_extension": ".py",
   "mimetype": "text/x-python",
   "name": "python",
   "nbconvert_exporter": "python",
   "pygments_lexer": "ipython3",
   "version": "3.10.2"
  },
  "orig_nbformat": 4
 },
 "nbformat": 4,
 "nbformat_minor": 2
}
